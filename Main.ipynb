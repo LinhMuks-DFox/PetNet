{
 "cells": [
  {
   "cell_type": "code",
   "execution_count": 1,
   "id": "fcfcfbaa-f729-4ec5-a12f-9866994ffd1f",
   "metadata": {},
   "outputs": [],
   "source": [
    "import torch\n",
    "import torch.nn as nn\n",
    "import matplotlib.pyplot as plt\n",
    "import numpy as np\n",
    "from torchvision.datasets import ImageFolder\n",
    "import torchvision.transforms as visionT\n",
    "import torch.utils.data as tch_data"
   ]
  },
  {
   "cell_type": "code",
   "execution_count": 12,
   "id": "16d91cfc-2c4c-4c16-b143-35d8478e0cf2",
   "metadata": {},
   "outputs": [],
   "source": [
    "import tqdm"
   ]
  },
  {
   "cell_type": "code",
   "execution_count": 2,
   "id": "4df7753c-78d9-4b58-824c-51613a9169af",
   "metadata": {},
   "outputs": [],
   "source": [
    "train_transform = visionT.Compose([\n",
    "    visionT.RandomResizedCrop(224),\n",
    "    visionT.RandomHorizontalFlip(),\n",
    "    visionT.ToTensor(),\n",
    "    visionT.Normalize([0.485, 0.456, 0.406], [0.229, 0.224, 0.225])\n",
    "])\n",
    "eval_transform = visionT.Compose([\n",
    "    visionT.Resize(256),\n",
    "    visionT.CenterCrop(224),\n",
    "    visionT.ToTensor(),\n",
    "    visionT.Normalize([0.485, 0.456, 0.406], [0.229, 0.224, 0.225])\n",
    "])\n",
    "dataset = ImageFolder(\"./PetImages/\")\n",
    "train_set, validate_set, test_set = tch_data.random_split(dataset, [0.8, 0.1, 0.1])\n",
    "train_set.dataset.transform = train_transform\n",
    "validate_set.dataset.transform = eval_transform\n",
    "test_set.dataset.transform = eval_transform"
   ]
  }
 ],
 "metadata": {
  "kernelspec": {
   "display_name": "Python 3 (ipykernel)",
   "language": "python",
   "name": "python3"
  },
  "language_info": {
   "codemirror_mode": {
    "name": "ipython",
    "version": 3
   },
   "file_extension": ".py",
   "mimetype": "text/x-python",
   "name": "python",
   "nbconvert_exporter": "python",
   "pygments_lexer": "ipython3",
   "version": "3.12.4"
  }
 },
 "nbformat": 4,
 "nbformat_minor": 5
}
